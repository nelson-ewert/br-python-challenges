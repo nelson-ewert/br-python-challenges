{
 "cells": [
  {
   "cell_type": "markdown",
   "metadata": {
    "colab_type": "text",
    "id": "view-in-github"
   },
   "source": [
    "<a href=\"https://colab.research.google.com/github/WittmannF/br-data-science/blob/master/python/challenges/Desafio_12.ipynb\" target=\"_parent\"><img src=\"https://colab.research.google.com/assets/colab-badge.svg\" alt=\"Open In Colab\"/></a>"
   ]
  },
  {
   "cell_type": "markdown",
   "metadata": {
    "colab_type": "text",
    "id": "AYHY2YXQf6J2"
   },
   "source": [
    "### Desafio 12\n",
    "\n",
    "Escreva uma função em Python para verificar a validade de uma senha.\n",
    "\n",
    "Validação:\n",
    "\n",
    "* Pelo menos 1 letra entre [a-z] e 1 letra entre [A-Z].\n",
    "* Pelo menos 1 número entre [0-9].\n",
    "* Pelo menos 1 caractere de [$ # @].\n",
    "* Comprimento mínimo de 6 caracteres.\n",
    "* Comprimento máximo de 16 caracteres.\n",
    "\n",
    "Entradas: \"12345678\", \"J3sus0\", \"#Te5t300\", \"J*90j12374\", \"Michheeul\", \"Monk3y6\"\n",
    "\n",
    "A saída deve ser a senha e um texto indicando se a senha é válida ou inválida:\n",
    "\n",
    "```\n",
    "\"1234\" - Senha inválida\n",
    "\"Qw#1234\" - Senha válida\n",
    "```"
   ]
  },
  {
   "cell_type": "code",
   "execution_count": 0,
   "metadata": {
    "colab": {},
    "colab_type": "code",
    "id": "UGgtGYGGf6J3"
   },
   "outputs": [],
   "source": [
    "# Seu código"
   ]
  },
  {
   "cell_type": "code",
   "execution_count": 43,
   "metadata": {
    "colab": {},
    "colab_type": "code",
    "id": "n8F01NzD9uHm"
   },
   "outputs": [],
   "source": [
    "def validade_senha(senha):\n",
    "    senha = str(senha)\n",
    "    validade = True\n",
    "    # testando se o tamanho atende aos requisitos:\n",
    "    if len(senha) > 16 or len(senha) < 6:\n",
    "        validade = False\n",
    "        #print(\"criterio 1\")\n",
    "    # testando se há números na senha\n",
    "    criterio_2 = False\n",
    "    for i in range (48, 57):\n",
    "        if chr(i) in senha:\n",
    "            criterio_2 = True\n",
    "    if criterio_2 == False:\n",
    "        val_2 = False\n",
    "        #print('criterio 2')\n",
    "    # testando se há letras minúsculas\n",
    "    criterio_3 = False\n",
    "    for i in range (97, 122):\n",
    "        if chr(i) in senha:\n",
    "            criterio_3 = True\n",
    "    if criterio_3 == False:\n",
    "        validade = False\n",
    "        #print('criterio 3')\n",
    "    # testando se há letras maiúsculas\n",
    "    criterio_4 = False\n",
    "    for i in range (65, 90):\n",
    "        if chr(i) in senha:\n",
    "            criterio_4 = True\n",
    "    if criterio_4 == False:\n",
    "        validade = False\n",
    "        #print ('criterio 4')\n",
    "    # testando se há algum dos outros caracteres especiais\n",
    "    if \"@\" not in senha and '#' not in senha and  '$' not in senha:\n",
    "        validade = False\n",
    "        #print('criterio 5')\n",
    "    if validade == True:\n",
    "        texto = ' - senha válida'\n",
    "    else:\n",
    "        texto = ' - senha inválida'\n",
    "        \n",
    "    return senha + texto"
   ]
  },
  {
   "cell_type": "code",
   "execution_count": 44,
   "metadata": {},
   "outputs": [
    {
     "data": {
      "text/plain": [
       "'Qw#1234 - senha válida'"
      ]
     },
     "execution_count": 44,
     "metadata": {},
     "output_type": "execute_result"
    }
   ],
   "source": [
    "validade_senha('Qw#1234')"
   ]
  }
 ],
 "metadata": {
  "anaconda-cloud": {},
  "colab": {
   "include_colab_link": true,
   "name": "Desafio 12.ipynb",
   "provenance": []
  },
  "kernelspec": {
   "display_name": "Python 3",
   "language": "python",
   "name": "python3"
  },
  "language_info": {
   "codemirror_mode": {
    "name": "ipython",
    "version": 3
   },
   "file_extension": ".py",
   "mimetype": "text/x-python",
   "name": "python",
   "nbconvert_exporter": "python",
   "pygments_lexer": "ipython3",
   "version": "3.8.3"
  }
 },
 "nbformat": 4,
 "nbformat_minor": 1
}
